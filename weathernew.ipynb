{
 "cells": [
  {
   "cell_type": "code",
   "execution_count": 1,
   "id": "58c33f4f-f7a5-4bab-a24c-4b3485072bb1",
   "metadata": {},
   "outputs": [],
   "source": [
    "# I used Tomorrow even it requires sign up and require premium subscription for many parametres. This was because it was easier for me to understand the documentation for it(I hope I have understood it correctly). Also, it was easier to find urls for python. "
   ]
  },
  {
   "cell_type": "code",
   "execution_count": 7,
   "id": "4f0c13dd-e28e-45a1-9362-1f000f6e367f",
   "metadata": {},
   "outputs": [],
   "source": [
    "#url to doc\n",
    "url_docs = \"https://open-meteo.com/en/docs\""
   ]
  },
  {
   "cell_type": "code",
   "execution_count": 9,
   "id": "a97b99ba-70df-4488-9f28-9a7b81fd6bb6",
   "metadata": {},
   "outputs": [
    {
     "data": {
      "text/plain": [
       "<Response [200]>"
      ]
     },
     "execution_count": 9,
     "metadata": {},
     "output_type": "execute_result"
    }
   ],
   "source": [
    "#current weather new delhi\n",
    "import requests\n",
    "url = \"https://api.tomorrow.io/v4/weather/realtime?location=new%20delhi&apikey=GPdpHrFRD5HeulZVVfORR9o4QE4fWla0\"\n",
    "response = requests.get(url)\n",
    "response"
   ]
  },
  {
   "cell_type": "code",
   "execution_count": 10,
   "id": "c983ab61-5d33-4714-a605-3f2e2dbe38fb",
   "metadata": {},
   "outputs": [
    {
     "data": {
      "text/plain": [
       "{'data': {'time': '2024-11-10T16:45:00Z',\n",
       "  'values': {'cloudBase': None,\n",
       "   'cloudCeiling': None,\n",
       "   'cloudCover': 0,\n",
       "   'dewPoint': 18.88,\n",
       "   'freezingRainIntensity': 0,\n",
       "   'humidity': 92,\n",
       "   'precipitationProbability': 0,\n",
       "   'pressureSurfaceLevel': 988.8,\n",
       "   'rainIntensity': 0,\n",
       "   'sleetIntensity': 0,\n",
       "   'snowIntensity': 0,\n",
       "   'temperature': 22.13,\n",
       "   'temperatureApparent': 22.13,\n",
       "   'uvHealthConcern': 0,\n",
       "   'uvIndex': 0,\n",
       "   'visibility': 14.68,\n",
       "   'weatherCode': 1000,\n",
       "   'windDirection': 41.69,\n",
       "   'windGust': 2.19,\n",
       "   'windSpeed': 2.19}},\n",
       " 'location': {'lat': 28.613895416259766,\n",
       "  'lon': 77.2090072631836,\n",
       "  'name': 'New Delhi, Delhi, India',\n",
       "  'type': 'administrative'}}"
      ]
     },
     "execution_count": 10,
     "metadata": {},
     "output_type": "execute_result"
    }
   ],
   "source": [
    "data = response.json()\n",
    "data"
   ]
  },
  {
   "cell_type": "code",
   "execution_count": 11,
   "id": "3262d9c0-fbf5-4c8d-ad55-3c66000be13b",
   "metadata": {},
   "outputs": [
    {
     "data": {
      "text/plain": [
       "dict_keys(['data', 'location'])"
      ]
     },
     "execution_count": 11,
     "metadata": {},
     "output_type": "execute_result"
    }
   ],
   "source": [
    "data.keys()"
   ]
  },
  {
   "cell_type": "code",
   "execution_count": 12,
   "id": "7531dab1-08eb-464c-ad33-6dafbe7d597b",
   "metadata": {},
   "outputs": [
    {
     "data": {
      "text/plain": [
       "{'lat': 28.613895416259766,\n",
       " 'lon': 77.2090072631836,\n",
       " 'name': 'New Delhi, Delhi, India',\n",
       " 'type': 'administrative'}"
      ]
     },
     "execution_count": 12,
     "metadata": {},
     "output_type": "execute_result"
    }
   ],
   "source": [
    "data['location']"
   ]
  },
  {
   "cell_type": "code",
   "execution_count": 21,
   "id": "523e3451-8536-4b58-a174-e203df759f47",
   "metadata": {},
   "outputs": [
    {
     "data": {
      "text/plain": [
       "'India'"
      ]
     },
     "execution_count": 21,
     "metadata": {},
     "output_type": "execute_result"
    }
   ],
   "source": [
    "#country \n",
    "data['location']['name'].split(', ')[-1]"
   ]
  },
  {
   "cell_type": "code",
   "execution_count": 24,
   "id": "b3983d62-3117-4a46-9cb9-145891c6c1e6",
   "metadata": {},
   "outputs": [],
   "source": [
    "temp = data['data']['values']['temperature']"
   ]
  },
  {
   "cell_type": "code",
   "execution_count": 25,
   "id": "c0f78167-8460-484b-8b67-29b94c510b63",
   "metadata": {},
   "outputs": [],
   "source": [
    "feels = data['data']['values']['temperatureApparent']"
   ]
  },
  {
   "cell_type": "code",
   "execution_count": 26,
   "id": "2c320ea1-c790-4467-958b-24542fef7bdc",
   "metadata": {},
   "outputs": [],
   "source": [
    "difference = feels - temp"
   ]
  },
  {
   "cell_type": "code",
   "execution_count": 30,
   "id": "1847dc64-2d98-42f2-b042-6b8f1001cf4a",
   "metadata": {},
   "outputs": [
    {
     "name": "stdout",
     "output_type": "stream",
     "text": [
      "It feels the same\n"
     ]
    }
   ],
   "source": [
    "#temp difference \n",
    "if temp > feels:\n",
    "    print(f\"It feels, {difference:,.2f}, colder\")\n",
    "elif temp < feels:\n",
    "    print(f\"It feels, {difference:,.2f}, warmer\")\n",
    "else:\n",
    "    print(\"It feels the same\")"
   ]
  },
  {
   "cell_type": "code",
   "execution_count": 33,
   "id": "696c5417-aeee-44a5-8594-d2bbbe9824ab",
   "metadata": {},
   "outputs": [
    {
     "data": {
      "text/plain": [
       "<Response [200]>"
      ]
     },
     "execution_count": 33,
     "metadata": {},
     "output_type": "execute_result"
    }
   ],
   "source": [
    "import requests\n",
    "url = \"https://api.tomorrow.io/v4/weather/realtime?location=51.4680%2C%200.4551&apikey=GPdpHrFRD5HeulZVVfORR9o4QE4fWla0\"\n",
    "response = requests.get(url)\n",
    "response"
   ]
  },
  {
   "cell_type": "code",
   "execution_count": 34,
   "id": "e2f886e9-23a6-4ba1-a204-439165fad88b",
   "metadata": {},
   "outputs": [
    {
     "data": {
      "text/plain": [
       "{'data': {'time': '2024-11-10T17:15:00Z',\n",
       "  'values': {'cloudBase': 0.29,\n",
       "   'cloudCeiling': 0.29,\n",
       "   'cloudCover': 100,\n",
       "   'dewPoint': 8.5,\n",
       "   'freezingRainIntensity': 0,\n",
       "   'humidity': 85,\n",
       "   'precipitationProbability': 0,\n",
       "   'pressureSurfaceLevel': 1027.5,\n",
       "   'rainIntensity': 0,\n",
       "   'sleetIntensity': 0,\n",
       "   'snowIntensity': 0,\n",
       "   'temperature': 10.81,\n",
       "   'temperatureApparent': 10.81,\n",
       "   'uvHealthConcern': 0,\n",
       "   'uvIndex': 0,\n",
       "   'visibility': 16,\n",
       "   'weatherCode': 1001,\n",
       "   'windDirection': 235.38,\n",
       "   'windGust': 4.38,\n",
       "   'windSpeed': 2.5}},\n",
       " 'location': {'lat': 51.468, 'lon': 0.4551}}"
      ]
     },
     "execution_count": 34,
     "metadata": {},
     "output_type": "execute_result"
    }
   ],
   "source": [
    "data = response.json()\n",
    "data"
   ]
  },
  {
   "cell_type": "code",
   "execution_count": 35,
   "id": "8a5e7090-f0e0-4d45-a71e-45694f179a87",
   "metadata": {},
   "outputs": [
    {
     "data": {
      "text/plain": [
       "dict_keys(['data', 'location'])"
      ]
     },
     "execution_count": 35,
     "metadata": {},
     "output_type": "execute_result"
    }
   ],
   "source": [
    "data.keys()"
   ]
  },
  {
   "cell_type": "code",
   "execution_count": 36,
   "id": "deb08e6c-a820-421e-adee-8bdfa93ec0e2",
   "metadata": {},
   "outputs": [
    {
     "data": {
      "text/plain": [
       "10.81"
      ]
     },
     "execution_count": 36,
     "metadata": {},
     "output_type": "execute_result"
    }
   ],
   "source": [
    "#current temp\n",
    "data['data']['values']['temperature']"
   ]
  },
  {
   "cell_type": "code",
   "execution_count": 40,
   "id": "21601d3a-5de6-411c-ac65-3cda778c23e3",
   "metadata": {},
   "outputs": [
    {
     "data": {
      "text/plain": [
       "<Response [200]>"
      ]
     },
     "execution_count": 40,
     "metadata": {},
     "output_type": "execute_result"
    }
   ],
   "source": [
    "#3 day forecast\n",
    "import requests\n",
    "url = \"https://api.tomorrow.io/v4/weather/forecast?location=51.4680%2C%200.4551&timesteps=1d&apikey=GPdpHrFRD5HeulZVVfORR9o4QE4fWla0\"\n",
    "response = requests.get(url)\n",
    "response"
   ]
  },
  {
   "cell_type": "code",
   "execution_count": 41,
   "id": "cebed33d-9769-4f19-98d5-02154c54279a",
   "metadata": {},
   "outputs": [
    {
     "data": {
      "text/plain": [
       "{'timelines': {'daily': [{'time': '2024-11-10T06:00:00Z',\n",
       "    'values': {'cloudBaseAvg': 0.78,\n",
       "     'cloudBaseMax': 6.74,\n",
       "     'cloudBaseMin': 0.11,\n",
       "     'cloudCeilingAvg': 0.89,\n",
       "     'cloudCeilingMax': 9.07,\n",
       "     'cloudCeilingMin': 0,\n",
       "     'cloudCoverAvg': 93.85,\n",
       "     'cloudCoverMax': 100,\n",
       "     'cloudCoverMin': 41.41,\n",
       "     'dewPointAvg': 7.9,\n",
       "     'dewPointMax': 10.65,\n",
       "     'dewPointMin': 3,\n",
       "     'evapotranspirationAvg': 0.015,\n",
       "     'evapotranspirationMax': 0.038,\n",
       "     'evapotranspirationMin': 0,\n",
       "     'evapotranspirationSum': 0.352,\n",
       "     'freezingRainIntensityAvg': 0,\n",
       "     'freezingRainIntensityMax': 0,\n",
       "     'freezingRainIntensityMin': 0,\n",
       "     'humidityAvg': 85.8,\n",
       "     'humidityMax': 95.08,\n",
       "     'humidityMin': 75,\n",
       "     'iceAccumulationAvg': 0,\n",
       "     'iceAccumulationLweAvg': 0,\n",
       "     'iceAccumulationLweMax': 0,\n",
       "     'iceAccumulationLweMin': 0,\n",
       "     'iceAccumulationLweSum': 0,\n",
       "     'iceAccumulationMax': 0,\n",
       "     'iceAccumulationMin': 0,\n",
       "     'iceAccumulationSum': 0,\n",
       "     'moonriseTime': '2024-11-10T14:12:07Z',\n",
       "     'moonsetTime': None,\n",
       "     'precipitationProbabilityAvg': 0,\n",
       "     'precipitationProbabilityMax': 0,\n",
       "     'precipitationProbabilityMin': 0,\n",
       "     'pressureSurfaceLevelAvg': 1027.88,\n",
       "     'pressureSurfaceLevelMax': 1030.88,\n",
       "     'pressureSurfaceLevelMin': 1025.4,\n",
       "     'rainAccumulationAvg': 0,\n",
       "     'rainAccumulationLweAvg': 0,\n",
       "     'rainAccumulationLweMax': 0,\n",
       "     'rainAccumulationLweMin': 0,\n",
       "     'rainAccumulationMax': 0,\n",
       "     'rainAccumulationMin': 0,\n",
       "     'rainAccumulationSum': 0,\n",
       "     'rainIntensityAvg': 0,\n",
       "     'rainIntensityMax': 0,\n",
       "     'rainIntensityMin': 0,\n",
       "     'sleetAccumulationAvg': 0,\n",
       "     'sleetAccumulationLweAvg': 0,\n",
       "     'sleetAccumulationLweMax': 0,\n",
       "     'sleetAccumulationLweMin': 0,\n",
       "     'sleetAccumulationLweSum': 0,\n",
       "     'sleetAccumulationMax': 0,\n",
       "     'sleetAccumulationMin': 0,\n",
       "     'sleetIntensityAvg': 0,\n",
       "     'sleetIntensityMax': 0,\n",
       "     'sleetIntensityMin': 0,\n",
       "     'snowAccumulationAvg': 0,\n",
       "     'snowAccumulationLweAvg': 0,\n",
       "     'snowAccumulationLweMax': 0,\n",
       "     'snowAccumulationLweMin': 0,\n",
       "     'snowAccumulationLweSum': 0,\n",
       "     'snowAccumulationMax': 0,\n",
       "     'snowAccumulationMin': 0,\n",
       "     'snowAccumulationSum': 0,\n",
       "     'snowIntensityAvg': 0,\n",
       "     'snowIntensityMax': 0,\n",
       "     'snowIntensityMin': 0,\n",
       "     'sunriseTime': '2024-11-10T07:00:00Z',\n",
       "     'sunsetTime': '2024-11-10T16:24:00Z',\n",
       "     'temperatureApparentAvg': 10.13,\n",
       "     'temperatureApparentMax': 11.6,\n",
       "     'temperatureApparentMin': 2.18,\n",
       "     'temperatureAvg': 10.2,\n",
       "     'temperatureMax': 11.6,\n",
       "     'temperatureMin': 3.88,\n",
       "     'uvHealthConcernAvg': 0,\n",
       "     'uvHealthConcernMax': 0,\n",
       "     'uvHealthConcernMin': 0,\n",
       "     'uvIndexAvg': 0,\n",
       "     'uvIndexMax': 0,\n",
       "     'uvIndexMin': 0,\n",
       "     'visibilityAvg': 16,\n",
       "     'visibilityMax': 16,\n",
       "     'visibilityMin': 16,\n",
       "     'weatherCodeMax': 1001,\n",
       "     'weatherCodeMin': 1001,\n",
       "     'windDirectionAvg': 258.78,\n",
       "     'windGustAvg': 4.52,\n",
       "     'windGustMax': 7.07,\n",
       "     'windGustMin': 2.31,\n",
       "     'windSpeedAvg': 2.53,\n",
       "     'windSpeedMax': 4.09,\n",
       "     'windSpeedMin': 1.31}},\n",
       "   {'time': '2024-11-11T06:00:00Z',\n",
       "    'values': {'cloudBaseAvg': 3.64,\n",
       "     'cloudBaseMax': 8.13,\n",
       "     'cloudBaseMin': 0,\n",
       "     'cloudCeilingAvg': 3.09,\n",
       "     'cloudCeilingMax': 9.01,\n",
       "     'cloudCeilingMin': 0,\n",
       "     'cloudCoverAvg': 53.42,\n",
       "     'cloudCoverMax': 100,\n",
       "     'cloudCoverMin': 1.56,\n",
       "     'dewPointAvg': 6.13,\n",
       "     'dewPointMax': 6.73,\n",
       "     'dewPointMin': 5.47,\n",
       "     'evapotranspirationAvg': 0.021,\n",
       "     'evapotranspirationMax': 0.041,\n",
       "     'evapotranspirationMin': 0,\n",
       "     'evapotranspirationSum': 0.494,\n",
       "     'freezingRainIntensityAvg': 0,\n",
       "     'freezingRainIntensityMax': 0,\n",
       "     'freezingRainIntensityMin': 0,\n",
       "     'humidityAvg': 84.3,\n",
       "     'humidityMax': 90.71,\n",
       "     'humidityMin': 72.98,\n",
       "     'iceAccumulationAvg': 0,\n",
       "     'iceAccumulationLweAvg': 0,\n",
       "     'iceAccumulationLweMax': 0,\n",
       "     'iceAccumulationLweMin': 0,\n",
       "     'iceAccumulationLweSum': 0,\n",
       "     'iceAccumulationMax': 0,\n",
       "     'iceAccumulationMin': 0,\n",
       "     'iceAccumulationSum': 0,\n",
       "     'moonriseTime': '2024-11-11T14:26:28Z',\n",
       "     'moonsetTime': '2024-11-11T01:05:22Z',\n",
       "     'precipitationProbabilityAvg': 0,\n",
       "     'precipitationProbabilityMax': 0,\n",
       "     'precipitationProbabilityMin': 0,\n",
       "     'pressureSurfaceLevelAvg': 1033.81,\n",
       "     'pressureSurfaceLevelMax': 1035.04,\n",
       "     'pressureSurfaceLevelMin': 1031.22,\n",
       "     'rainAccumulationAvg': 0,\n",
       "     'rainAccumulationLweAvg': 0,\n",
       "     'rainAccumulationLweMax': 0,\n",
       "     'rainAccumulationLweMin': 0,\n",
       "     'rainAccumulationMax': 0,\n",
       "     'rainAccumulationMin': 0,\n",
       "     'rainAccumulationSum': 0,\n",
       "     'rainIntensityAvg': 0,\n",
       "     'rainIntensityMax': 0,\n",
       "     'rainIntensityMin': 0,\n",
       "     'sleetAccumulationAvg': 0,\n",
       "     'sleetAccumulationLweAvg': 0,\n",
       "     'sleetAccumulationLweMax': 0,\n",
       "     'sleetAccumulationLweMin': 0,\n",
       "     'sleetAccumulationLweSum': 0,\n",
       "     'sleetAccumulationMax': 0,\n",
       "     'sleetAccumulationMin': 0,\n",
       "     'sleetIntensityAvg': 0,\n",
       "     'sleetIntensityMax': 0,\n",
       "     'sleetIntensityMin': 0,\n",
       "     'snowAccumulationAvg': 0,\n",
       "     'snowAccumulationLweAvg': 0,\n",
       "     'snowAccumulationLweMax': 0,\n",
       "     'snowAccumulationLweMin': 0,\n",
       "     'snowAccumulationLweSum': 0,\n",
       "     'snowAccumulationMax': 0,\n",
       "     'snowAccumulationMin': 0,\n",
       "     'snowAccumulationSum': 0,\n",
       "     'snowIntensityAvg': 0,\n",
       "     'snowIntensityMax': 0,\n",
       "     'snowIntensityMin': 0,\n",
       "     'sunriseTime': '2024-11-11T07:01:00Z',\n",
       "     'sunsetTime': '2024-11-11T16:23:00Z',\n",
       "     'temperatureApparentAvg': 8.66,\n",
       "     'temperatureApparentMax': 10.94,\n",
       "     'temperatureApparentMin': 7.22,\n",
       "     'temperatureAvg': 8.66,\n",
       "     'temperatureMax': 10.94,\n",
       "     'temperatureMin': 7.22,\n",
       "     'uvHealthConcernAvg': 0,\n",
       "     'uvHealthConcernMax': 0,\n",
       "     'uvHealthConcernMin': 0,\n",
       "     'uvIndexAvg': 0,\n",
       "     'uvIndexMax': 1,\n",
       "     'uvIndexMin': 0,\n",
       "     'visibilityAvg': 16,\n",
       "     'visibilityMax': 16,\n",
       "     'visibilityMin': 16,\n",
       "     'weatherCodeMax': 1001,\n",
       "     'weatherCodeMin': 1001,\n",
       "     'windDirectionAvg': 328.42,\n",
       "     'windGustAvg': 8.15,\n",
       "     'windGustMax': 10.28,\n",
       "     'windGustMin': 6.2,\n",
       "     'windSpeedAvg': 4.63,\n",
       "     'windSpeedMax': 5.91,\n",
       "     'windSpeedMin': 3.58}},\n",
       "   {'time': '2024-11-12T06:00:00Z',\n",
       "    'values': {'cloudBaseAvg': 1.11,\n",
       "     'cloudBaseMax': 7.15,\n",
       "     'cloudBaseMin': 0,\n",
       "     'cloudCeilingAvg': 2.43,\n",
       "     'cloudCeilingMax': 10.81,\n",
       "     'cloudCeilingMin': 0,\n",
       "     'cloudCoverAvg': 76.11,\n",
       "     'cloudCoverMax': 100,\n",
       "     'cloudCoverMin': 12.5,\n",
       "     'dewPointAvg': 6.17,\n",
       "     'dewPointMax': 7.49,\n",
       "     'dewPointMin': 5.12,\n",
       "     'evapotranspirationAvg': 0.028,\n",
       "     'evapotranspirationMax': 0.081,\n",
       "     'evapotranspirationMin': 0.006,\n",
       "     'evapotranspirationSum': 0.67,\n",
       "     'freezingRainIntensityAvg': 0,\n",
       "     'freezingRainIntensityMax': 0,\n",
       "     'freezingRainIntensityMin': 0,\n",
       "     'humidityAvg': 79.29,\n",
       "     'humidityMax': 90,\n",
       "     'humidityMin': 62.76,\n",
       "     'iceAccumulationAvg': 0,\n",
       "     'iceAccumulationLweAvg': 0,\n",
       "     'iceAccumulationLweMax': 0,\n",
       "     'iceAccumulationLweMin': 0,\n",
       "     'iceAccumulationLweSum': 0,\n",
       "     'iceAccumulationMax': 0,\n",
       "     'iceAccumulationMin': 0,\n",
       "     'iceAccumulationSum': 0,\n",
       "     'moonriseTime': '2024-11-12T14:39:50Z',\n",
       "     'moonsetTime': '2024-11-12T02:31:54Z',\n",
       "     'precipitationProbabilityAvg': 0.4,\n",
       "     'precipitationProbabilityMax': 5,\n",
       "     'precipitationProbabilityMin': 0,\n",
       "     'pressureSurfaceLevelAvg': 1033.77,\n",
       "     'pressureSurfaceLevelMax': 1034.51,\n",
       "     'pressureSurfaceLevelMin': 1032.73,\n",
       "     'rainAccumulationAvg': 0,\n",
       "     'rainAccumulationLweAvg': 0,\n",
       "     'rainAccumulationLweMax': 0.02,\n",
       "     'rainAccumulationLweMin': 0,\n",
       "     'rainAccumulationMax': 0,\n",
       "     'rainAccumulationMin': 0,\n",
       "     'rainAccumulationSum': 0,\n",
       "     'rainIntensityAvg': 0,\n",
       "     'rainIntensityMax': 0.02,\n",
       "     'rainIntensityMin': 0,\n",
       "     'sleetAccumulationAvg': 0,\n",
       "     'sleetAccumulationLweAvg': 0,\n",
       "     'sleetAccumulationLweMax': 0,\n",
       "     'sleetAccumulationLweMin': 0,\n",
       "     'sleetAccumulationLweSum': 0,\n",
       "     'sleetAccumulationMax': 0,\n",
       "     'sleetAccumulationMin': 0,\n",
       "     'sleetIntensityAvg': 0,\n",
       "     'sleetIntensityMax': 0,\n",
       "     'sleetIntensityMin': 0,\n",
       "     'snowAccumulationAvg': 0,\n",
       "     'snowAccumulationLweAvg': 0,\n",
       "     'snowAccumulationLweMax': 0,\n",
       "     'snowAccumulationLweMin': 0,\n",
       "     'snowAccumulationLweSum': 0,\n",
       "     'snowAccumulationMax': 0,\n",
       "     'snowAccumulationMin': 0,\n",
       "     'snowAccumulationSum': 0,\n",
       "     'snowIntensityAvg': 0,\n",
       "     'snowIntensityMax': 0,\n",
       "     'snowIntensityMin': 0,\n",
       "     'sunriseTime': '2024-11-12T07:02:00Z',\n",
       "     'sunsetTime': '2024-11-12T16:22:00Z',\n",
       "     'temperatureApparentAvg': 9.67,\n",
       "     'temperatureApparentMax': 12.3,\n",
       "     'temperatureApparentMin': 7.56,\n",
       "     'temperatureAvg': 9.67,\n",
       "     'temperatureMax': 12.3,\n",
       "     'temperatureMin': 7.56,\n",
       "     'uvHealthConcernAvg': 0,\n",
       "     'uvHealthConcernMax': 0,\n",
       "     'uvHealthConcernMin': 0,\n",
       "     'uvIndexAvg': 0,\n",
       "     'uvIndexMax': 0,\n",
       "     'uvIndexMin': 0,\n",
       "     'visibilityAvg': 16,\n",
       "     'visibilityMax': 16,\n",
       "     'visibilityMin': 16,\n",
       "     'weatherCodeMax': 1001,\n",
       "     'weatherCodeMin': 1001,\n",
       "     'windDirectionAvg': 25.18,\n",
       "     'windGustAvg': 9.14,\n",
       "     'windGustMax': 13.57,\n",
       "     'windGustMin': 6.37,\n",
       "     'windSpeedAvg': 5.22,\n",
       "     'windSpeedMax': 7.24,\n",
       "     'windSpeedMin': 3.76}},\n",
       "   {'time': '2024-11-13T06:00:00Z',\n",
       "    'values': {'cloudBaseAvg': 1.9,\n",
       "     'cloudBaseMax': 8.2,\n",
       "     'cloudBaseMin': 0,\n",
       "     'cloudCeilingAvg': 3.36,\n",
       "     'cloudCeilingMax': 12.43,\n",
       "     'cloudCeilingMin': 0,\n",
       "     'cloudCoverAvg': 69.92,\n",
       "     'cloudCoverMax': 100,\n",
       "     'cloudCoverMin': 7.03,\n",
       "     'dewPointAvg': 5.47,\n",
       "     'dewPointMax': 8.4,\n",
       "     'dewPointMin': 4.41,\n",
       "     'evapotranspirationAvg': 0.015,\n",
       "     'evapotranspirationMax': 0.029,\n",
       "     'evapotranspirationMin': 0,\n",
       "     'evapotranspirationSum': 0.358,\n",
       "     'freezingRainIntensityAvg': 0,\n",
       "     'freezingRainIntensityMax': 0,\n",
       "     'freezingRainIntensityMin': 0,\n",
       "     'humidityAvg': 83.96,\n",
       "     'humidityMax': 93.13,\n",
       "     'humidityMin': 66.47,\n",
       "     'iceAccumulationAvg': 0,\n",
       "     'iceAccumulationLweAvg': 0,\n",
       "     'iceAccumulationLweMax': 0,\n",
       "     'iceAccumulationLweMin': 0,\n",
       "     'iceAccumulationLweSum': 0,\n",
       "     'iceAccumulationMax': 0,\n",
       "     'iceAccumulationMin': 0,\n",
       "     'iceAccumulationSum': 0,\n",
       "     'moonriseTime': '2024-11-13T14:53:08Z',\n",
       "     'moonsetTime': '2024-11-13T04:00:26Z',\n",
       "     'precipitationProbabilityAvg': 0.4,\n",
       "     'precipitationProbabilityMax': 10,\n",
       "     'precipitationProbabilityMin': 0,\n",
       "     'pressureSurfaceLevelAvg': 1031.99,\n",
       "     'pressureSurfaceLevelMax': 1034.78,\n",
       "     'pressureSurfaceLevelMin': 1024.3,\n",
       "     'rainAccumulationAvg': 0,\n",
       "     'rainAccumulationLweAvg': 0,\n",
       "     'rainAccumulationLweMax': 0.05,\n",
       "     'rainAccumulationLweMin': 0,\n",
       "     'rainAccumulationMax': 0,\n",
       "     'rainAccumulationMin': 0,\n",
       "     'rainAccumulationSum': 0,\n",
       "     'rainIntensityAvg': 0,\n",
       "     'rainIntensityMax': 0.05,\n",
       "     'rainIntensityMin': 0,\n",
       "     'sleetAccumulationAvg': 0,\n",
       "     'sleetAccumulationLweAvg': 0,\n",
       "     'sleetAccumulationLweMax': 0,\n",
       "     'sleetAccumulationLweMin': 0,\n",
       "     'sleetAccumulationLweSum': 0,\n",
       "     'sleetAccumulationMax': 0,\n",
       "     'sleetAccumulationMin': 0,\n",
       "     'sleetIntensityAvg': 0,\n",
       "     'sleetIntensityMax': 0,\n",
       "     'sleetIntensityMin': 0,\n",
       "     'snowAccumulationAvg': 0,\n",
       "     'snowAccumulationLweAvg': 0,\n",
       "     'snowAccumulationLweMax': 0,\n",
       "     'snowAccumulationLweMin': 0,\n",
       "     'snowAccumulationLweSum': 0,\n",
       "     'snowAccumulationMax': 0,\n",
       "     'snowAccumulationMin': 0,\n",
       "     'snowAccumulationSum': 0,\n",
       "     'snowIntensityAvg': 0,\n",
       "     'snowIntensityMax': 0,\n",
       "     'snowIntensityMin': 0,\n",
       "     'sunriseTime': '2024-11-13T07:04:00Z',\n",
       "     'sunsetTime': '2024-11-13T16:21:00Z',\n",
       "     'temperatureApparentAvg': 8.12,\n",
       "     'temperatureApparentMax': 11.42,\n",
       "     'temperatureApparentMin': 5.51,\n",
       "     'temperatureAvg': 8.12,\n",
       "     'temperatureMax': 11.42,\n",
       "     'temperatureMin': 5.51,\n",
       "     'uvHealthConcernAvg': 0,\n",
       "     'uvHealthConcernMax': 0,\n",
       "     'uvHealthConcernMin': 0,\n",
       "     'uvIndexAvg': 0,\n",
       "     'uvIndexMax': 0,\n",
       "     'uvIndexMin': 0,\n",
       "     'visibilityAvg': 17.33,\n",
       "     'visibilityMax': 24.14,\n",
       "     'visibilityMin': 15.82,\n",
       "     'weatherCodeMax': 1001,\n",
       "     'weatherCodeMin': 1001,\n",
       "     'windDirectionAvg': 169.22,\n",
       "     'windGustAvg': 4.97,\n",
       "     'windGustMax': 9.51,\n",
       "     'windGustMin': 2.83,\n",
       "     'windSpeedAvg': 2.82,\n",
       "     'windSpeedMax': 4.79,\n",
       "     'windSpeedMin': 1.8}},\n",
       "   {'time': '2024-11-14T06:00:00Z',\n",
       "    'values': {'cloudBaseAvg': 1.64,\n",
       "     'cloudBaseMax': 6.65,\n",
       "     'cloudBaseMin': 0,\n",
       "     'cloudCeilingAvg': 0.11,\n",
       "     'cloudCeilingMax': 2.56,\n",
       "     'cloudCeilingMin': 0,\n",
       "     'cloudCoverAvg': 41.61,\n",
       "     'cloudCoverMax': 100,\n",
       "     'cloudCoverMin': 5.58,\n",
       "     'dewPointAvg': 4.91,\n",
       "     'dewPointMax': 6.1,\n",
       "     'dewPointMin': 3.76,\n",
       "     'evapotranspirationAvg': 0.025,\n",
       "     'evapotranspirationMax': 0.034,\n",
       "     'evapotranspirationMin': 0.005,\n",
       "     'evapotranspirationSum': 0.591,\n",
       "     'freezingRainIntensityAvg': 0,\n",
       "     'freezingRainIntensityMax': 0,\n",
       "     'freezingRainIntensityMin': 0,\n",
       "     'humidityAvg': 85.97,\n",
       "     'humidityMax': 95.12,\n",
       "     'humidityMin': 64.35,\n",
       "     'iceAccumulationAvg': 0,\n",
       "     'iceAccumulationLweAvg': 0,\n",
       "     'iceAccumulationLweMax': 0,\n",
       "     'iceAccumulationLweMin': 0,\n",
       "     'iceAccumulationLweSum': 0,\n",
       "     'iceAccumulationMax': 0,\n",
       "     'iceAccumulationMin': 0,\n",
       "     'iceAccumulationSum': 0,\n",
       "     'moonriseTime': '2024-11-14T15:09:02Z',\n",
       "     'moonsetTime': '2024-11-14T05:28:43Z',\n",
       "     'precipitationProbabilityAvg': 0,\n",
       "     'precipitationProbabilityMax': 0,\n",
       "     'precipitationProbabilityMin': 0,\n",
       "     'pressureSurfaceLevelAvg': 1026.52,\n",
       "     'pressureSurfaceLevelMax': 1028.32,\n",
       "     'pressureSurfaceLevelMin': 1024.14,\n",
       "     'rainAccumulationAvg': 0,\n",
       "     'rainAccumulationLweAvg': 0,\n",
       "     'rainAccumulationLweMax': 0,\n",
       "     'rainAccumulationLweMin': 0,\n",
       "     'rainAccumulationMax': 0,\n",
       "     'rainAccumulationMin': 0,\n",
       "     'rainAccumulationSum': 0,\n",
       "     'rainIntensityAvg': 0,\n",
       "     'rainIntensityMax': 0,\n",
       "     'rainIntensityMin': 0,\n",
       "     'sleetAccumulationAvg': 0,\n",
       "     'sleetAccumulationLweAvg': 0,\n",
       "     'sleetAccumulationLweMax': 0,\n",
       "     'sleetAccumulationLweMin': 0,\n",
       "     'sleetAccumulationLweSum': 0,\n",
       "     'sleetAccumulationMax': 0,\n",
       "     'sleetAccumulationMin': 0,\n",
       "     'sleetIntensityAvg': 0,\n",
       "     'sleetIntensityMax': 0,\n",
       "     'sleetIntensityMin': 0,\n",
       "     'snowAccumulationAvg': 0,\n",
       "     'snowAccumulationLweAvg': 0,\n",
       "     'snowAccumulationLweMax': 0,\n",
       "     'snowAccumulationLweMin': 0,\n",
       "     'snowAccumulationLweSum': 0,\n",
       "     'snowAccumulationMax': 0,\n",
       "     'snowAccumulationMin': 0,\n",
       "     'snowAccumulationSum': 0,\n",
       "     'snowIntensityAvg': 0,\n",
       "     'snowIntensityMax': 0,\n",
       "     'snowIntensityMin': 0,\n",
       "     'sunriseTime': '2024-11-14T07:05:00Z',\n",
       "     'sunsetTime': '2024-11-14T16:20:00Z',\n",
       "     'temperatureApparentAvg': 7.22,\n",
       "     'temperatureApparentMax': 10.8,\n",
       "     'temperatureApparentMin': 4.79,\n",
       "     'temperatureAvg': 7.22,\n",
       "     'temperatureMax': 10.8,\n",
       "     'temperatureMin': 4.79,\n",
       "     'uvHealthConcernAvg': 0,\n",
       "     'uvHealthConcernMax': 0,\n",
       "     'uvHealthConcernMin': 0,\n",
       "     'uvIndexAvg': 0,\n",
       "     'uvIndexMax': 0,\n",
       "     'uvIndexMin': 0,\n",
       "     'visibilityAvg': 24.06,\n",
       "     'visibilityMax': 24.14,\n",
       "     'visibilityMin': 22.37,\n",
       "     'weatherCodeMax': 1100,\n",
       "     'weatherCodeMin': 1100,\n",
       "     'windDirectionAvg': 21.5,\n",
       "     'windGustAvg': 3.61,\n",
       "     'windGustMax': 5.2,\n",
       "     'windGustMin': 2.61,\n",
       "     'windSpeedAvg': 2.62,\n",
       "     'windSpeedMax': 3.08,\n",
       "     'windSpeedMin': 2.1}},\n",
       "   {'time': '2024-11-15T06:00:00Z',\n",
       "    'values': {'cloudBaseAvg': 0,\n",
       "     'cloudBaseMax': 0,\n",
       "     'cloudBaseMin': 0,\n",
       "     'cloudCeilingAvg': 0,\n",
       "     'cloudCeilingMax': 0,\n",
       "     'cloudCeilingMin': 0,\n",
       "     'cloudCoverAvg': 62.52,\n",
       "     'cloudCoverMax': 100,\n",
       "     'cloudCoverMin': 5.44,\n",
       "     'dewPointAvg': 4.29,\n",
       "     'dewPointMax': 5.07,\n",
       "     'dewPointMin': 3.41,\n",
       "     'evapotranspirationAvg': 0.028,\n",
       "     'evapotranspirationMax': 0.038,\n",
       "     'evapotranspirationMin': 0.019,\n",
       "     'evapotranspirationSum': 0.663,\n",
       "     'freezingRainIntensityAvg': 0,\n",
       "     'freezingRainIntensityMax': 0,\n",
       "     'freezingRainIntensityMin': 0,\n",
       "     'humidityAvg': 83.96,\n",
       "     'humidityMax': 92.05,\n",
       "     'humidityMin': 73.48,\n",
       "     'iceAccumulationAvg': 0,\n",
       "     'iceAccumulationLweAvg': 0,\n",
       "     'iceAccumulationLweMax': 0,\n",
       "     'iceAccumulationLweMin': 0,\n",
       "     'iceAccumulationLweSum': 0,\n",
       "     'iceAccumulationMax': 0,\n",
       "     'iceAccumulationMin': 0,\n",
       "     'iceAccumulationSum': 0,\n",
       "     'moonriseTime': '2024-11-15T15:30:07Z',\n",
       "     'moonsetTime': '2024-11-15T07:01:06Z',\n",
       "     'precipitationProbabilityAvg': 0,\n",
       "     'precipitationProbabilityMax': 0,\n",
       "     'precipitationProbabilityMin': 0,\n",
       "     'pressureSurfaceLevelAvg': 1020.04,\n",
       "     'pressureSurfaceLevelMax': 1023.81,\n",
       "     'pressureSurfaceLevelMin': 1015.97,\n",
       "     'rainAccumulationAvg': 0,\n",
       "     'rainAccumulationLweAvg': 0,\n",
       "     'rainAccumulationLweMax': 0,\n",
       "     'rainAccumulationLweMin': 0,\n",
       "     'rainAccumulationMax': 0,\n",
       "     'rainAccumulationMin': 0,\n",
       "     'rainAccumulationSum': 0,\n",
       "     'rainIntensityAvg': 0,\n",
       "     'rainIntensityMax': 0,\n",
       "     'rainIntensityMin': 0,\n",
       "     'sleetAccumulationAvg': 0,\n",
       "     'sleetAccumulationLweAvg': 0,\n",
       "     'sleetAccumulationLweMax': 0,\n",
       "     'sleetAccumulationLweMin': 0,\n",
       "     'sleetAccumulationLweSum': 0,\n",
       "     'sleetAccumulationMax': 0,\n",
       "     'sleetAccumulationMin': 0,\n",
       "     'sleetIntensityAvg': 0,\n",
       "     'sleetIntensityMax': 0,\n",
       "     'sleetIntensityMin': 0,\n",
       "     'snowAccumulationAvg': 0,\n",
       "     'snowAccumulationLweAvg': 0,\n",
       "     'snowAccumulationLweMax': 0,\n",
       "     'snowAccumulationLweMin': 0,\n",
       "     'snowAccumulationLweSum': 0,\n",
       "     'snowAccumulationMax': 0,\n",
       "     'snowAccumulationMin': 0,\n",
       "     'snowAccumulationSum': 0,\n",
       "     'snowIntensityAvg': 0,\n",
       "     'snowIntensityMax': 0,\n",
       "     'snowIntensityMin': 0,\n",
       "     'sunriseTime': '2024-11-15T07:06:00Z',\n",
       "     'sunsetTime': '2024-11-15T16:19:00Z',\n",
       "     'temperatureApparentAvg': 6.87,\n",
       "     'temperatureApparentMax': 9.4,\n",
       "     'temperatureApparentMin': 4.73,\n",
       "     'temperatureAvg': 6.87,\n",
       "     'temperatureMax': 9.4,\n",
       "     'temperatureMin': 4.73,\n",
       "     'visibilityAvg': 24.14,\n",
       "     'visibilityMax': 24.14,\n",
       "     'visibilityMin': 24.13,\n",
       "     'weatherCodeMax': 1001,\n",
       "     'weatherCodeMin': 1001,\n",
       "     'windDirectionAvg': 43.63,\n",
       "     'windGustAvg': 2.22,\n",
       "     'windGustMax': 3.3,\n",
       "     'windGustMin': 1,\n",
       "     'windSpeedAvg': 1.76,\n",
       "     'windSpeedMax': 2.61,\n",
       "     'windSpeedMin': 0.85}}]},\n",
       " 'location': {'lat': 51.468, 'lon': 0.4551}}"
      ]
     },
     "execution_count": 41,
     "metadata": {},
     "output_type": "execute_result"
    }
   ],
   "source": [
    "data = response.json()\n",
    "data"
   ]
  },
  {
   "cell_type": "code",
   "execution_count": 42,
   "id": "9490e16d-cf40-4b36-aa9d-e6c12a6f58d0",
   "metadata": {},
   "outputs": [
    {
     "data": {
      "text/plain": [
       "dict_keys(['timelines', 'location'])"
      ]
     },
     "execution_count": 42,
     "metadata": {},
     "output_type": "execute_result"
    }
   ],
   "source": [
    "data.keys()"
   ]
  },
  {
   "cell_type": "code",
   "execution_count": 45,
   "id": "227c2f28-6ede-4622-820d-d996fb99f28b",
   "metadata": {},
   "outputs": [
    {
     "data": {
      "text/plain": [
       "'2024-11-10T06:00:00Z'"
      ]
     },
     "execution_count": 45,
     "metadata": {},
     "output_type": "execute_result"
    }
   ],
   "source": [
    "data['timelines']['daily'][0]['time']"
   ]
  },
  {
   "cell_type": "code",
   "execution_count": 47,
   "id": "bb35a3e6-3553-4483-bbed-87a68b0a0fc4",
   "metadata": {},
   "outputs": [
    {
     "name": "stdout",
     "output_type": "stream",
     "text": [
      "-----------\n",
      "2024-11-10T06:00:00Z\n",
      "-----------\n",
      "2024-11-11T06:00:00Z\n",
      "-----------\n",
      "2024-11-12T06:00:00Z\n"
     ]
    }
   ],
   "source": [
    "#dates for three day forecast\n",
    "for date in data['timelines']['daily'][:3]:\n",
    "    print(\"-----------\")\n",
    "    print(date['time'])"
   ]
  },
  {
   "cell_type": "code",
   "execution_count": 50,
   "id": "d848cb87-f371-4924-b04a-b06a5cc4baf5",
   "metadata": {},
   "outputs": [
    {
     "data": {
      "text/plain": [
       "11.6"
      ]
     },
     "execution_count": 50,
     "metadata": {},
     "output_type": "execute_result"
    }
   ],
   "source": [
    "data['timelines']['daily'][0]['values']['temperatureMax']"
   ]
  },
  {
   "cell_type": "code",
   "execution_count": 58,
   "id": "a4ba083c-b2f1-4169-8910-ada7f89e1e27",
   "metadata": {},
   "outputs": [
    {
     "name": "stdout",
     "output_type": "stream",
     "text": [
      "-----------\n",
      "11.6\n",
      "-----------\n",
      "10.94\n",
      "-----------\n",
      "12.3\n"
     ]
    }
   ],
   "source": [
    "#temp for three days \n",
    "for date in data['timelines']['daily'][:3]:\n",
    "    print(\"-----------\")\n",
    "    print(date['values']['temperatureMax'])"
   ]
  },
  {
   "cell_type": "code",
   "execution_count": 56,
   "id": "47653158-4378-4689-b7a2-bad80e1af664",
   "metadata": {},
   "outputs": [
    {
     "data": {
      "text/plain": [
       "'2024-11-12T06:00:00Z'"
      ]
     },
     "execution_count": 56,
     "metadata": {},
     "output_type": "execute_result"
    }
   ],
   "source": [
    "#day of the max temp\n",
    "data['timelines']['daily'][:3][2]['time']"
   ]
  },
  {
   "cell_type": "code",
   "execution_count": 62,
   "id": "f642ed7e-23eb-4376-b25d-2360f05dece7",
   "metadata": {},
   "outputs": [],
   "source": [
    "# Tomorrow.io was more difficult than the weatherapi.com. The latter was more easy to customise the day, no. of days, country, to get data from. This had lot many dictionaries and lists, and was not comprehensible comparitively. I would recommend weatherapi.com."
   ]
  },
  {
   "cell_type": "code",
   "execution_count": null,
   "id": "2d75e43e-37e6-4a18-8297-b43771241e91",
   "metadata": {},
   "outputs": [],
   "source": []
  }
 ],
 "metadata": {
  "kernelspec": {
   "display_name": "Python 3 (ipykernel)",
   "language": "python",
   "name": "python3"
  },
  "language_info": {
   "codemirror_mode": {
    "name": "ipython",
    "version": 3
   },
   "file_extension": ".py",
   "mimetype": "text/x-python",
   "name": "python",
   "nbconvert_exporter": "python",
   "pygments_lexer": "ipython3",
   "version": "3.12.7"
  }
 },
 "nbformat": 4,
 "nbformat_minor": 5
}
